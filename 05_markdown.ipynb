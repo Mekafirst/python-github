{
 "cells": [
  {
   "cell_type": "markdown",
   "id": "3a4fc29e-d305-4eb3-8911-f1823ca359ef",
   "metadata": {},
   "source": [
    "# POO\n",
    "## h2\n",
    "### h3\n",
    "\n",
    "**en gras**\n",
    "\n",
    "du txt + une list :\n",
    "- 1\n",
    "- 2\n",
    "- 3\n",
    "\n",
    "``` print\n",
    "\n",
    "echo est du code"
   ]
  }
 ],
 "metadata": {
  "kernelspec": {
   "display_name": "Python 3 (ipykernel)",
   "language": "python",
   "name": "python3"
  },
  "language_info": {
   "codemirror_mode": {
    "name": "ipython",
    "version": 3
   },
   "file_extension": ".py",
   "mimetype": "text/x-python",
   "name": "python",
   "nbconvert_exporter": "python",
   "pygments_lexer": "ipython3",
   "version": "3.11.9"
  }
 },
 "nbformat": 4,
 "nbformat_minor": 5
}
