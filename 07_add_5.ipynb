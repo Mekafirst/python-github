{
 "cells": [
  {
   "cell_type": "code",
   "execution_count": 4,
   "id": "f57912ad-de9d-40ba-9884-f81a1862787f",
   "metadata": {},
   "outputs": [],
   "source": [
    "def add_5(x):\n",
    "    return x+5"
   ]
  },
  {
   "cell_type": "code",
   "execution_count": 5,
   "id": "ff9c2b8d-f6a5-4eba-b887-389300e65ea1",
   "metadata": {},
   "outputs": [
    {
     "data": {
      "text/plain": [
       "10"
      ]
     },
     "execution_count": 5,
     "metadata": {},
     "output_type": "execute_result"
    }
   ],
   "source": [
    "add_5(5)"
   ]
  },
  {
   "cell_type": "code",
   "execution_count": 6,
   "id": "983425cb-bd1c-4a83-9708-67eb0d81b753",
   "metadata": {},
   "outputs": [],
   "source": [
    "def test_add_5():\n",
    "    assert add_5(5) ==10"
   ]
  },
  {
   "cell_type": "code",
   "execution_count": null,
   "id": "20c0db27-721b-4c9f-831f-ce3fea9e71a9",
   "metadata": {},
   "outputs": [],
   "source": []
  }
 ],
 "metadata": {
  "kernelspec": {
   "display_name": "Python 3 (ipykernel)",
   "language": "python",
   "name": "python3"
  },
  "language_info": {
   "codemirror_mode": {
    "name": "ipython",
    "version": 3
   },
   "file_extension": ".py",
   "mimetype": "text/x-python",
   "name": "python",
   "nbconvert_exporter": "python",
   "pygments_lexer": "ipython3",
   "version": "3.11.9"
  }
 },
 "nbformat": 4,
 "nbformat_minor": 5
}
